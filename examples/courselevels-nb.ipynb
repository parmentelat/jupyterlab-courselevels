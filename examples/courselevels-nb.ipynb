{
 "cells": [
  {
   "cell_type": "markdown",
   "id": "fd410a73",
   "metadata": {
    "editable": true,
    "slideshow": {
     "slide_type": "-"
    },
    "tags": [
     "licence"
    ],
    "user_expressions": []
   },
   "source": [
    "Licence CC BY-NC-ND, Thierry Parmentelat"
   ]
  },
  {
   "cell_type": "markdown",
   "id": "83fcce2e",
   "metadata": {
    "editable": true,
    "slideshow": {
     "slide_type": ""
    },
    "tags": []
   },
   "source": [
    "# normal cell\n",
    "\n",
    "nothing particular"
   ]
  },
  {
   "cell_type": "markdown",
   "id": "60cc22a2",
   "metadata": {
    "editable": true,
    "slideshow": {
     "slide_type": ""
    },
    "tags": [
     "level-basic",
     "level_basic"
    ]
   },
   "source": [
    "## basic\n",
    "\n",
    "this one is tagged as `level_basic`\n",
    "\n",
    "it should show up green"
   ]
  },
  {
   "cell_type": "markdown",
   "id": "09177fc9",
   "metadata": {
    "tags": [
     "level_intermediate"
    ]
   },
   "source": [
    "## intermediate\n",
    "\n",
    "tagged as `level_intermediate`\n",
    "\n",
    "show up blueish with nb-courselevels"
   ]
  },
  {
   "cell_type": "markdown",
   "id": "44f66f9d",
   "metadata": {
    "tags": [
     "level_advanced"
    ]
   },
   "source": [
    "## advanced\n",
    "\n",
    "tagged as `level_advanced`\n",
    "\n",
    "shows up pink-ish"
   ]
  },
  {
   "cell_type": "markdown",
   "id": "bd23cf6d",
   "metadata": {
    "jp-MarkdownHeadingCollapsed": true,
    "tags": [
     "framed_cell",
     "level_basic"
    ]
   },
   "source": [
    "## framed\n",
    "\n",
    "this is designed to have otherwise apparently sparse text material show up within a black frame\n",
    "\n",
    "![](https://www.inria.fr/sites/default/files/2019-12/logo-800-600.jpg)"
   ]
  }
 ],
 "metadata": {
  "jupytext": {
   "cell_metadata_filter": "all,-hidden,-heading_collapsed,-run_control,-trusted",
   "notebook_metadata_filter": "all,-language_info,-toc,-jupytext.text_representation.jupytext_version,-jupytext.text_representation.format_version"
  },
  "kernelspec": {
   "display_name": "Python 3 (ipykernel)",
   "language": "python",
   "name": "python3"
  },
  "language_info": {
   "codemirror_mode": {
    "name": "ipython",
    "version": 3
   },
   "file_extension": ".py",
   "mimetype": "text/x-python",
   "name": "python",
   "nbconvert_exporter": "python",
   "pygments_lexer": "ipython3",
   "version": "3.11.3"
  },
  "nbhosting": {
   "title": "React apps basics"
  },
  "rise": {
   "autolaunch": true,
   "slideNumber": "c/t",
   "start_slideshow_at": "selected",
   "theme": "sky",
   "transition": "cube"
  }
 },
 "nbformat": 4,
 "nbformat_minor": 5
}
